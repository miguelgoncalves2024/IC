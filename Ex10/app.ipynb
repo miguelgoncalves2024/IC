{
 "cells": [
  {
   "cell_type": "code",
   "execution_count": 1,
   "metadata": {},
   "outputs": [
    {
     "name": "stdout",
     "output_type": "stream",
     "text": [
      "Conectado com o código de resultado: Success\n",
      "Stil On:Humidade Registada: 61\n",
      "Stil On:Temperatura Registada: 11\n",
      "Stil On:7.80\n",
      "Stil On:Humidade Registada: 96\n",
      "Stil On:Temperatura Registada: 1\n",
      "Stil On:Humidade Registada: 75\n",
      "Stil On:Temperatura Registada: 43\n",
      "Stil On:Humidade Registada: 0\n",
      "Stil On:Temperatura Registada: 22\n",
      "Stil On:Humidade Registada: 6\n",
      "Stil On:Temperatura Registada: 64\n",
      "Stil On:Humidade Registada: 9\n",
      "Stil On:Temperatura Registada: 74\n",
      "Stil On:Humidade Registada: 19\n"
     ]
    },
    {
     "ename": "KeyboardInterrupt",
     "evalue": "",
     "output_type": "error",
     "traceback": [
      "\u001b[1;31m---------------------------------------------------------------------------\u001b[0m",
      "\u001b[1;31mKeyboardInterrupt\u001b[0m                         Traceback (most recent call last)",
      "Cell \u001b[1;32mIn[1], line 46\u001b[0m\n\u001b[0;32m     43\u001b[0m mqttc\u001b[38;5;241m.\u001b[39mloop_start()\n\u001b[0;32m     45\u001b[0m \u001b[38;5;28;01mwhile\u001b[39;00m \u001b[38;5;28;01mTrue\u001b[39;00m:\n\u001b[1;32m---> 46\u001b[0m    \u001b[43mmqttc\u001b[49m\u001b[38;5;241;43m.\u001b[39;49m\u001b[43mpublish\u001b[49m\u001b[43m(\u001b[49m\u001b[43mtopicA\u001b[49m\u001b[43m,\u001b[49m\u001b[38;5;124;43mf\u001b[39;49m\u001b[38;5;124;43m\"\u001b[39;49m\u001b[38;5;132;43;01m{\u001b[39;49;00m\u001b[43misActive\u001b[49m\u001b[38;5;132;43;01m}\u001b[39;49;00m\u001b[38;5;124;43m\"\u001b[39;49m\u001b[43m)\u001b[49m\n\u001b[0;32m     48\u001b[0m mqttc\u001b[38;5;241m.\u001b[39mloop_stop()\n",
      "File \u001b[1;32m~\\AppData\\Local\\Packages\\PythonSoftwareFoundation.Python.3.11_qbz5n2kfra8p0\\LocalCache\\local-packages\\Python311\\site-packages\\paho\\mqtt\\client.py:1768\u001b[0m, in \u001b[0;36mClient.publish\u001b[1;34m(self, topic, payload, qos, retain, properties)\u001b[0m\n\u001b[0;32m   1766\u001b[0m \u001b[38;5;28;01mif\u001b[39;00m qos \u001b[38;5;241m==\u001b[39m \u001b[38;5;241m0\u001b[39m:\n\u001b[0;32m   1767\u001b[0m     info \u001b[38;5;241m=\u001b[39m MQTTMessageInfo(local_mid)\n\u001b[1;32m-> 1768\u001b[0m     rc \u001b[38;5;241m=\u001b[39m \u001b[38;5;28;43mself\u001b[39;49m\u001b[38;5;241;43m.\u001b[39;49m\u001b[43m_send_publish\u001b[49m\u001b[43m(\u001b[49m\n\u001b[0;32m   1769\u001b[0m \u001b[43m        \u001b[49m\u001b[43mlocal_mid\u001b[49m\u001b[43m,\u001b[49m\u001b[43m \u001b[49m\u001b[43mtopic_bytes\u001b[49m\u001b[43m,\u001b[49m\u001b[43m \u001b[49m\u001b[43mlocal_payload\u001b[49m\u001b[43m,\u001b[49m\u001b[43m \u001b[49m\u001b[43mqos\u001b[49m\u001b[43m,\u001b[49m\u001b[43m \u001b[49m\u001b[43mretain\u001b[49m\u001b[43m,\u001b[49m\u001b[43m \u001b[49m\u001b[38;5;28;43;01mFalse\u001b[39;49;00m\u001b[43m,\u001b[49m\u001b[43m \u001b[49m\u001b[43minfo\u001b[49m\u001b[43m,\u001b[49m\u001b[43m \u001b[49m\u001b[43mproperties\u001b[49m\u001b[43m)\u001b[49m\n\u001b[0;32m   1770\u001b[0m     info\u001b[38;5;241m.\u001b[39mrc \u001b[38;5;241m=\u001b[39m rc\n\u001b[0;32m   1771\u001b[0m     \u001b[38;5;28;01mreturn\u001b[39;00m info\n",
      "File \u001b[1;32m~\\AppData\\Local\\Packages\\PythonSoftwareFoundation.Python.3.11_qbz5n2kfra8p0\\LocalCache\\local-packages\\Python311\\site-packages\\paho\\mqtt\\client.py:3439\u001b[0m, in \u001b[0;36mClient._send_publish\u001b[1;34m(self, mid, topic, payload, qos, retain, dup, info, properties)\u001b[0m\n\u001b[0;32m   3435\u001b[0m     packet\u001b[38;5;241m.\u001b[39mextend(packed_properties)\n\u001b[0;32m   3437\u001b[0m packet\u001b[38;5;241m.\u001b[39mextend(payload)\n\u001b[1;32m-> 3439\u001b[0m \u001b[38;5;28;01mreturn\u001b[39;00m \u001b[38;5;28;43mself\u001b[39;49m\u001b[38;5;241;43m.\u001b[39;49m\u001b[43m_packet_queue\u001b[49m\u001b[43m(\u001b[49m\u001b[43mPUBLISH\u001b[49m\u001b[43m,\u001b[49m\u001b[43m \u001b[49m\u001b[43mpacket\u001b[49m\u001b[43m,\u001b[49m\u001b[43m \u001b[49m\u001b[43mmid\u001b[49m\u001b[43m,\u001b[49m\u001b[43m \u001b[49m\u001b[43mqos\u001b[49m\u001b[43m,\u001b[49m\u001b[43m \u001b[49m\u001b[43minfo\u001b[49m\u001b[43m)\u001b[49m\n",
      "File \u001b[1;32m~\\AppData\\Local\\Packages\\PythonSoftwareFoundation.Python.3.11_qbz5n2kfra8p0\\LocalCache\\local-packages\\Python311\\site-packages\\paho\\mqtt\\client.py:3777\u001b[0m, in \u001b[0;36mClient._packet_queue\u001b[1;34m(self, command, packet, mid, qos, info)\u001b[0m\n\u001b[0;32m   3775\u001b[0m \u001b[38;5;28;01mif\u001b[39;00m \u001b[38;5;28mself\u001b[39m\u001b[38;5;241m.\u001b[39m_sockpairW \u001b[38;5;129;01mis\u001b[39;00m \u001b[38;5;129;01mnot\u001b[39;00m \u001b[38;5;28;01mNone\u001b[39;00m:\n\u001b[0;32m   3776\u001b[0m     \u001b[38;5;28;01mtry\u001b[39;00m:\n\u001b[1;32m-> 3777\u001b[0m         \u001b[38;5;28;43mself\u001b[39;49m\u001b[38;5;241;43m.\u001b[39;49m\u001b[43m_sockpairW\u001b[49m\u001b[38;5;241;43m.\u001b[39;49m\u001b[43msend\u001b[49m\u001b[43m(\u001b[49m\u001b[43msockpair_data\u001b[49m\u001b[43m)\u001b[49m\n\u001b[0;32m   3778\u001b[0m     \u001b[38;5;28;01mexcept\u001b[39;00m \u001b[38;5;167;01mBlockingIOError\u001b[39;00m:\n\u001b[0;32m   3779\u001b[0m         \u001b[38;5;28;01mpass\u001b[39;00m\n",
      "\u001b[1;31mKeyboardInterrupt\u001b[0m: "
     ]
    },
    {
     "name": "stdout",
     "output_type": "stream",
     "text": [
      "Stil On:Temperatura Registada: 57\n",
      "Stil On:7.80\n"
     ]
    }
   ],
   "source": [
    "from time import sleep\n",
    "import paho.mqtt.client as mqtt\n",
    "from random import randint\n",
    "\n",
    "#Sensor ligado ou desligado\n",
    "isActive = True\n",
    "humidade = 0\n",
    "temperatura = 0\n",
    "topicH= \"Humidade\"\n",
    "topicT= \"Temperatura\"\n",
    "topicA = \"Ativação\"\n",
    "broker= \"broker.mqtt-dashboard.com\"\n",
    "\n",
    "# Função de callback para quando a conexão é estabelecida\n",
    "def on_connect(client, userdata, flags, reason_code, properties):\n",
    "    print(\"Conectado com o código de resultado: \" + str(reason_code))\n",
    "    client.subscribe(topicH)\n",
    "    client.subscribe(topicT)\n",
    "    \n",
    "\n",
    "# Função de callback para quando uma mensagem é recebida\n",
    "def on_message(client, userdata, msg):\n",
    "    state = str(msg.payload.decode(\"utf-8\"))\n",
    "\n",
    "    if state == \"Fase\":\n",
    "        isActive = False\n",
    "\n",
    "    else:\n",
    "        isActive = True\n",
    "    \n",
    "    print(\"Stil On:\"  + state) \n",
    "\n",
    "# Criando um cliente MQTT\n",
    "mqttc = mqtt.Client(mqtt.CallbackAPIVersion.VERSION2)\n",
    "\n",
    "# Definindo as funções de callback\n",
    "mqttc.on_connect = on_connect\n",
    "mqttc.on_message = on_message\n",
    "\n",
    "#Conexão com o broker\n",
    "mqttc.connect(broker)\n",
    "\n",
    "mqttc.loop_start()\n",
    "\n",
    "while True:\n",
    "   mqttc.publish(topicA,f\"{isActive}\")\n",
    "\n",
    "mqttc.loop_stop()"
   ]
  }
 ],
 "metadata": {
  "kernelspec": {
   "display_name": "Python 3",
   "language": "python",
   "name": "python3"
  },
  "language_info": {
   "codemirror_mode": {
    "name": "ipython",
    "version": 3
   },
   "file_extension": ".py",
   "mimetype": "text/x-python",
   "name": "python",
   "nbconvert_exporter": "python",
   "pygments_lexer": "ipython3",
   "version": "3.11.8"
  }
 },
 "nbformat": 4,
 "nbformat_minor": 2
}
