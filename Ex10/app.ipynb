{
 "cells": [
  {
   "cell_type": "code",
   "execution_count": 1,
   "metadata": {},
   "outputs": [
    {
     "name": "stdout",
     "output_type": "stream",
     "text": [
      "Conectado com o código de resultado: Success\n",
      "Temperatura: 12.30\n"
     ]
    }
   ],
   "source": [
    "from time import sleep\n",
    "import paho.mqtt.client as mqtt\n",
    "from random import randint\n",
    "\n",
    "#Sensor ligado ou desligado\n",
    "ligado = True\n",
    "humidade = 0\n",
    "temperatura = 0\n",
    "topicH= \"Humidade\"\n",
    "topicT= \"Temperatura\"\n",
    "topicL = \"Iluminação\"\n",
    "topicA = \"Ativação\"\n",
    "broker= \"broker.mqtt-dashboard.com\"\n",
    "\n",
    "# Função de callback para quando a conexão é estabelecida\n",
    "def on_connect(client, userdata, flags, reason_code, properties):\n",
    "    print(\"Conectado com o código de resultado: \" + str(reason_code))\n",
    "    client.subscribe(topicH)\n",
    "    client.subscribe(topicT)\n",
    "    client.subscribe(topicL)\n",
    "    \n",
    "\n",
    "# Função de callback para quando uma mensagem é recebida\n",
    "def on_message(client, userdata, msg):\n",
    "     print(msg.topic + \": \" + str(msg.payload.decode(\"utf-8\")))\n",
    "\n",
    "# Criando um cliente MQTT\n",
    "mqttc = mqtt.Client(mqtt.CallbackAPIVersion.VERSION2)\n",
    "\n",
    "# Definindo as funções de callback\n",
    "mqttc.on_connect = on_connect\n",
    "mqttc.on_message = on_message\n",
    "\n",
    "#Conexão com o broker\n",
    "mqttc.connect(broker)\n",
    "\n",
    "mqttc.loop_start()\n",
    "\n",
    "while True:\n",
    "    mqttc.publish(topicA,True)\n",
    "\n",
    "    sleep(10)\n",
    "\n",
    "    mqttc.publish(topicA,False)\n",
    "\n",
    "    sleep(10)\n",
    "\n",
    "mqttc.loop_stop()"
   ]
  }
 ],
 "metadata": {
  "kernelspec": {
   "display_name": "Python 3",
   "language": "python",
   "name": "python3"
  },
  "language_info": {
   "codemirror_mode": {
    "name": "ipython",
    "version": 3
   },
   "file_extension": ".py",
   "mimetype": "text/x-python",
   "name": "python",
   "nbconvert_exporter": "python",
   "pygments_lexer": "ipython3",
   "version": "3.11.8"
  }
 },
 "nbformat": 4,
 "nbformat_minor": 2
}
