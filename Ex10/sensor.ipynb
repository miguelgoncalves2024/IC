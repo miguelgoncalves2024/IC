{
 "cells": [
  {
   "cell_type": "code",
   "execution_count": 9,
   "metadata": {},
   "outputs": [
    {
     "name": "stdout",
     "output_type": "stream",
     "text": [
      "Conectado com o código de resultado: Success\n",
      "True\n",
      "False\n",
      "True\n",
      "False\n"
     ]
    },
    {
     "ename": "KeyboardInterrupt",
     "evalue": "",
     "output_type": "error",
     "traceback": [
      "\u001b[1;31m---------------------------------------------------------------------------\u001b[0m",
      "\u001b[1;31mKeyboardInterrupt\u001b[0m                         Traceback (most recent call last)",
      "Cell \u001b[1;32mIn[9], line 57\u001b[0m\n\u001b[0;32m     54\u001b[0m     \u001b[38;5;28;01melse\u001b[39;00m:\n\u001b[0;32m     55\u001b[0m         mqttc\u001b[38;5;241m.\u001b[39mpublish(topicL, \u001b[38;5;124m\"\u001b[39m\u001b[38;5;124mDesligada\u001b[39m\u001b[38;5;130;01m\\n\u001b[39;00m\u001b[38;5;124m\"\u001b[39m)\n\u001b[1;32m---> 57\u001b[0m     sleep(\u001b[38;5;241m3\u001b[39m)\n\u001b[0;32m     59\u001b[0m mqttc\u001b[38;5;241m.\u001b[39mloop_stop()\n",
      "\u001b[1;31mKeyboardInterrupt\u001b[0m: "
     ]
    }
   ],
   "source": [
    "from time import sleep\n",
    "import paho.mqtt.client as mqtt\n",
    "from random import randint\n",
    "\n",
    "#Sensor ligado ou desligado\n",
    "ligado = True\n",
    "humidade = 0\n",
    "temperatura = 0\n",
    "topicH= \"Humidade\"\n",
    "topicT= \"Temperatura\"\n",
    "topicL = \"Iluminação\"\n",
    "topicA = \"Ativação\"\n",
    "broker= \"broker.mqtt-dashboard.com\"\n",
    "\n",
    "# Função de callback para quando a conexão é estabelecida\n",
    "def on_connect(client, userdata, flags, reason_code, properties):\n",
    "    print(\"Conectado com o código de resultado: \" + str(reason_code))\n",
    "    client.subscribe(topicA)\n",
    "\n",
    "# Função de callback para quando uma mensagem é recebida\n",
    "def on_message(client, userdata, msg):\n",
    "    state = str(msg.payload.decode(\"utf-8\"))\n",
    "    print(state)\n",
    "\n",
    "    global ligado\n",
    "\n",
    "    if state == \"False\":\n",
    "        ligado = False\n",
    "    else:\n",
    "        ligado = True\n",
    "  \n",
    "# Criando um cliente MQTT\n",
    "mqttc = mqtt.Client(mqtt.CallbackAPIVersion.VERSION2)\n",
    "\n",
    "# Definindo as funções de callback\n",
    "mqttc.on_connect = on_connect\n",
    "mqttc.on_message = on_message\n",
    "\n",
    "#Conexão com o broker\n",
    "mqttc.connect(broker)\n",
    "mqttc.loop_start()\n",
    "\n",
    "while True:\n",
    "    \n",
    "    humidade = randint(0,100)\n",
    "    temperatura = randint(0,100)\n",
    "\n",
    "    mqttc.publish(topicH,humidade)\n",
    "    mqttc.publish(topicT,temperatura)\n",
    "    \n",
    "    if ligado:\n",
    "        mqttc.publish(topicL,\"Ligada\")\n",
    "\n",
    "    else:\n",
    "        mqttc.publish(topicL, \"Desligada\")\n",
    "\n",
    "    print(\"\\n\")\n",
    "    sleep(3)\n",
    "\n",
    "mqttc.loop_stop()"
   ]
  },
  {
   "cell_type": "code",
   "execution_count": null,
   "metadata": {},
   "outputs": [],
   "source": []
  }
 ],
 "metadata": {
  "kernelspec": {
   "display_name": "Python 3",
   "language": "python",
   "name": "python3"
  },
  "language_info": {
   "codemirror_mode": {
    "name": "ipython",
    "version": 3
   },
   "file_extension": ".py",
   "mimetype": "text/x-python",
   "name": "python",
   "nbconvert_exporter": "python",
   "pygments_lexer": "ipython3",
   "version": "3.11.8"
  }
 },
 "nbformat": 4,
 "nbformat_minor": 2
}
