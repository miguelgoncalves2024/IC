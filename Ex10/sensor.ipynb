{
 "cells": [
  {
   "cell_type": "code",
   "execution_count": null,
   "metadata": {},
   "outputs": [],
   "source": [
    "from time import sleep\n",
    "import paho.mqtt.client as mqtt\n",
    "from random import randint\n",
    "\n",
    "#Sensor ligado ou desligado\n",
    "isActive = True\n",
    "humidade = 0\n",
    "temperatura = 0\n",
    "topicH= \"Humidade\"\n",
    "topicT= \"Temperatura\"\n",
    "topicA = \"Ativação\"\n",
    "broker= \"broker.mqtt-dashboard.com\"\n",
    "\n",
    "# Função de callback para quando a conexão é estabelecida\n",
    "def on_connect(client, userdata, flags, reason_code, properties):\n",
    "    print(\"Conectado com o código de resultado: \" + str(reason_code))\n",
    "    client.subscribe(topicA)\n",
    "    \n",
    "\n",
    "# Função de callback para quando uma mensagem é recebida\n",
    "def on_message(client, userdata, msg):\n",
    "    state = str(msg.payload.decode(\"utf-8\"))\n",
    "\n",
    "    if state == \"Fase\":\n",
    "        isActive = False\n",
    "\n",
    "    else:\n",
    "        isActive = True\n",
    "    \n",
    "    print(\"Stil On:\"  + state) \n",
    "\n",
    "# Criando um cliente MQTT\n",
    "mqttc = mqtt.Client(mqtt.CallbackAPIVersion.VERSION2)\n",
    "\n",
    "# Definindo as funções de callback\n",
    "mqttc.on_connect = on_connect\n",
    "mqttc.on_message = on_message\n",
    "\n",
    "#Conexão com o broker\n",
    "mqttc.connect(broker)\n",
    "\n",
    "mqttc.loop_start()\n",
    "\n",
    "while True:\n",
    "    humidade = randint(0,100)\n",
    "    temperatura =randint(0,100)\n",
    "\n",
    "    while not isActive:\n",
    "        continue\n",
    "\n",
    "    mqttc.publish(topicH,f\"Temperatura Registada: {temperatura}\")\n",
    "    sleep(2)\n",
    "    mqttc.publish(topicT, f\"Humidade Registada: {humidade}\")\n",
    "    sleep(2)\n",
    "\n",
    "mqttc.loop_stop()"
   ]
  }
 ],
 "metadata": {
  "kernelspec": {
   "display_name": "Python 3",
   "language": "python",
   "name": "python3"
  },
  "language_info": {
   "codemirror_mode": {
    "name": "ipython",
    "version": 3
   },
   "file_extension": ".py",
   "mimetype": "text/x-python",
   "name": "python",
   "nbconvert_exporter": "python",
   "pygments_lexer": "ipython3",
   "version": "3.11.8"
  }
 },
 "nbformat": 4,
 "nbformat_minor": 2
}
