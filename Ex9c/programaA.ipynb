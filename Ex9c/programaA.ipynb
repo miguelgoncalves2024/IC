{
 "cells": [
  {
   "cell_type": "code",
   "execution_count": null,
   "metadata": {},
   "outputs": [],
   "source": [
    "import time\n",
    "import paho.mqtt.client as mqtt\n",
    "\n",
    "topic1 = \"ProgramaA/a50767\"\n",
    "topic2 = \"Bom Dia\"\n",
    "message1=\"Olá do Programa A!\"\n",
    "message2=\"Tenha um Bom Dia\"\n",
    "broker=\"broker.mqtt-dashboard.com\"\n",
    "\n",
    "# Função de callback para quando a conexão é estabelecida\n",
    "def on_connect(client, userdata, flags, reason_code, properties):\n",
    "    print(\"Conectado com o código de resultado: \" + str(reason_code))\n",
    "    \n",
    "\n",
    "# Função de callback para quando uma mensagem é recebida\n",
    "def on_message(client, userdata, msg):\n",
    "    print(\"Mensagem recebida no tópico \" + msg.topic + \": \" + str(msg.payload.decode(\"utf-8\")))\n",
    "\n",
    "# Criando um cliente MQTT\n",
    "mqttc = mqtt.Client(mqtt.CallbackAPIVersion.VERSION2)\n",
    "\n",
    "# Definindo as funções de callback\n",
    "mqttc.on_connect = on_connect\n",
    "mqttc.on_message = on_message\n",
    "\n",
    "#Conexão com o broker\n",
    "mqttc.connect(broker)\n",
    "\n",
    "mqttc.loop_start()\n",
    "\n",
    "while True:\n",
    "    mqttc.publish(topic1,message1)\n",
    "    time.sleep(0.5)\n",
    "    mqttc.publish(topic2,message2)\n",
    "    time.sleep(1)\n",
    "\n",
    "mqttc.loop_stop()"
   ]
  }
 ],
 "metadata": {
  "kernelspec": {
   "display_name": "Python 3",
   "language": "python",
   "name": "python3"
  },
  "language_info": {
   "codemirror_mode": {
    "name": "ipython",
    "version": 3
   },
   "file_extension": ".py",
   "mimetype": "text/x-python",
   "name": "python",
   "nbconvert_exporter": "python",
   "pygments_lexer": "ipython3",
   "version": "3.11.8"
  }
 },
 "nbformat": 4,
 "nbformat_minor": 2
}
