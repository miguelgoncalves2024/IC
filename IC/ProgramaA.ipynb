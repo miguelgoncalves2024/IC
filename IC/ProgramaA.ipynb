{
  "cells": [
    {
      "cell_type": "code",
      "execution_count": null,
      "metadata": {
        "colab": {
          "base_uri": "https://localhost:8080/",
          "height": 610
        },
        "id": "S5mRx1XFikO0",
        "outputId": "cc635473-c121-484b-f67b-1b97ec9ad0e1"
      },
      "outputs": [],
      "source": [
        "#PROGRAMA A\n",
        "import time\n",
        "import paho.mqtt.client as mqtt\n",
        "\n",
        "topicA = \"ProgramaA/a50767\"\n",
        "topicB = \"ProgramaB/a50767\"\n",
        "message=\"Olá do Programa A!\"\n",
        "broker=\"broker.mqtt-dashboard.com\"\n",
        "\n",
        "# Função de callback para quando a conexão é estabelecida\n",
        "def on_connect(client, userdata, flags, reason_code, properties):\n",
        "    print(\"Conectado com o código de resultado: \" + str(reason_code))\n",
        "    client.subscribe(topicB)\n",
        "\n",
        "# Função de callback para quando uma mensagem é recebida\n",
        "def on_message(client, userdata, msg):\n",
        "    print(\"Mensagem recebida no tópico \" + msg.topic + \": \" + str(msg.payload.decode(\"utf-8\")))\n",
        "\n",
        "# Criando um cliente MQTT\n",
        "mqttc = mqtt.Client(mqtt.CallbackAPIVersion.VERSION2)\n",
        "\n",
        "# Definindo as funções de callback\n",
        "mqttc.on_connect = on_connect\n",
        "mqttc.on_message = on_message\n",
        "\n",
        "# Conectando ao broker\n",
        "mqttc.connect(broker)\n",
        "\n",
        "# Iniciando o loop para manter a conexão\n",
        "mqttc.loop_start()\n",
        "while True:\n",
        "    # Enviando uma mensagem para o Programa B\n",
        "    mqttc.publish(topicA, message)\n",
        "    print('Ola a')\n",
        "        # Aguardando um momento para a mensagem ser enviada\n",
        "    time.sleep(2)\n",
        "mqttc.loop_stop()"
      ]
    }
  ],
  "metadata": {
    "colab": {
      "provenance": []
    },
    "kernelspec": {
      "display_name": "Python 3",
      "language": "python",
      "name": "python3"
    },
    "language_info": {
      "codemirror_mode": {
        "name": "ipython",
        "version": 3
      },
      "file_extension": ".py",
      "mimetype": "text/x-python",
      "name": "python",
      "nbconvert_exporter": "python",
      "pygments_lexer": "ipython3",
      "version": "3.11.8"
    }
  },
  "nbformat": 4,
  "nbformat_minor": 0
}
