{
  "cells": [
    {
      "cell_type": "code",
      "execution_count": 3,
      "metadata": {
        "colab": {
          "base_uri": "https://localhost:8080/",
          "height": 610
        },
        "id": "S5mRx1XFikO0",
        "outputId": "cc635473-c121-484b-f67b-1b97ec9ad0e1"
      },
      "outputs": [
        {
          "name": "stdout",
          "output_type": "stream",
          "text": [
            "Ola a\n",
            "Conectado com o código de resultado: Success\n",
            "Ola a\n",
            "Ola a\n",
            "Ola a\n"
          ]
        },
        {
          "ename": "KeyboardInterrupt",
          "evalue": "",
          "output_type": "error",
          "traceback": [
            "\u001b[1;31m---------------------------------------------------------------------------\u001b[0m",
            "\u001b[1;31mKeyboardInterrupt\u001b[0m                         Traceback (most recent call last)",
            "Cell \u001b[1;32mIn[3], line 35\u001b[0m\n\u001b[0;32m     33\u001b[0m     \u001b[38;5;28mprint\u001b[39m(\u001b[38;5;124m'\u001b[39m\u001b[38;5;124mOla a\u001b[39m\u001b[38;5;124m'\u001b[39m)\n\u001b[0;32m     34\u001b[0m         \u001b[38;5;66;03m# Aguardando um momento para a mensagem ser enviada\u001b[39;00m\n\u001b[1;32m---> 35\u001b[0m     \u001b[43mtime\u001b[49m\u001b[38;5;241;43m.\u001b[39;49m\u001b[43msleep\u001b[49m\u001b[43m(\u001b[49m\u001b[38;5;241;43m2\u001b[39;49m\u001b[43m)\u001b[49m\n\u001b[0;32m     36\u001b[0m mqttc\u001b[38;5;241m.\u001b[39mloop_stop()\n",
            "\u001b[1;31mKeyboardInterrupt\u001b[0m: "
          ]
        }
      ],
      "source": [
        "#PROGRAMA A\n",
        "import time\n",
        "import paho.mqtt.client as mqtt\n",
        "\n",
        "topicA = \"ProgramaA/a50767\"\n",
        "topicB = \"ProgramaB/a50767\"\n",
        "message=\"Olá do Programa A!\"\n",
        "broker=\"broker.mqtt-dashboard.com\"\n",
        "\n",
        "# Função de callback para quando a conexão é estabelecida\n",
        "def on_connect(client, userdata, flags, reason_code, properties):\n",
        "    print(\"Conectado com o código de resultado: \" + str(reason_code))\n",
        "    client.subscribe(topicB)\n",
        "\n",
        "# Função de callback para quando uma mensagem é recebida\n",
        "def on_message(client, userdata, msg):\n",
        "    print(\"Mensagem recebida no tópico \" + msg.topic + \": \" + str(msg.payload.decode(\"utf-8\")))\n",
        "\n",
        "# Criando um cliente MQTT\n",
        "mqttc = mqtt.Client(mqtt.CallbackAPIVersion.VERSION2)\n",
        "\n",
        "# Definindo as funções de callback\n",
        "mqttc.on_connect = on_connect\n",
        "mqttc.on_message = on_message\n",
        "\n",
        "# Conectando ao broker\n",
        "mqttc.connect(broker, 1883, 60)\n",
        "\n",
        "# Iniciando o loop para manter a conexão\n",
        "mqttc.loop_start()\n",
        "while True:\n",
        "    # Enviando uma mensagem para o Programa B\n",
        "    mqttc.publish(topicA, message)\n",
        "    print('Ola a')\n",
        "        # Aguardando um momento para a mensagem ser enviada\n",
        "    time.sleep(2)\n",
        "mqttc.loop_stop()"
      ]
    }
  ],
  "metadata": {
    "colab": {
      "provenance": []
    },
    "kernelspec": {
      "display_name": "Python 3",
      "language": "python",
      "name": "python3"
    },
    "language_info": {
      "codemirror_mode": {
        "name": "ipython",
        "version": 3
      },
      "file_extension": ".py",
      "mimetype": "text/x-python",
      "name": "python",
      "nbconvert_exporter": "python",
      "pygments_lexer": "ipython3",
      "version": "3.11.8"
    }
  },
  "nbformat": 4,
  "nbformat_minor": 0
}
