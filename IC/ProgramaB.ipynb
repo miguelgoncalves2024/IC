{
  "cells": [
    {
      "cell_type": "code",
      "execution_count": 3,
      "metadata": {
        "colab": {
          "base_uri": "https://localhost:8080/",
          "height": 1000
        },
        "id": "3nh5sIzWjSwF",
        "outputId": "92594c56-d944-4a53-fb5c-318cc00e5aef"
      },
      "outputs": [
        {
          "name": "stdout",
          "output_type": "stream",
          "text": [
            "Ola b\n",
            "Conectado com o código de resultado: Success\n",
            "Mensagem recebida no tópico ProgramaA/a50767: Olá do Programa A!\n",
            "Ola b\n",
            "Mensagem recebida no tópico ProgramaA/a50767: Olá do Programa A!\n",
            "Ola b\n",
            "Mensagem recebida no tópico ProgramaA/a50767: Olá do Programa A!\n"
          ]
        },
        {
          "ename": "KeyboardInterrupt",
          "evalue": "",
          "output_type": "error",
          "traceback": [
            "\u001b[1;31m---------------------------------------------------------------------------\u001b[0m",
            "\u001b[1;31mKeyboardInterrupt\u001b[0m                         Traceback (most recent call last)",
            "Cell \u001b[1;32mIn[3], line 33\u001b[0m\n\u001b[0;32m     31\u001b[0m     \u001b[38;5;28mprint\u001b[39m(\u001b[38;5;124m'\u001b[39m\u001b[38;5;124mOla b\u001b[39m\u001b[38;5;124m'\u001b[39m)\n\u001b[0;32m     32\u001b[0m         \u001b[38;5;66;03m# Aguardando um momento para a mensagem ser enviada\u001b[39;00m\n\u001b[1;32m---> 33\u001b[0m     \u001b[43mtime\u001b[49m\u001b[38;5;241;43m.\u001b[39;49m\u001b[43msleep\u001b[49m\u001b[43m(\u001b[49m\u001b[38;5;241;43m2\u001b[39;49m\u001b[43m)\u001b[49m\n\u001b[0;32m     34\u001b[0m client\u001b[38;5;241m.\u001b[39mloop_stop()\n",
            "\u001b[1;31mKeyboardInterrupt\u001b[0m: "
          ]
        },
        {
          "name": "stdout",
          "output_type": "stream",
          "text": [
            "Mensagem recebida no tópico ProgramaA/a50767: Olá do Programa A!\n",
            "Mensagem recebida no tópico ProgramaA/a50767: Olá do Programa A!\n",
            "Mensagem recebida no tópico ProgramaA/a50767: Olá do Programa A!\n",
            "Mensagem recebida no tópico ProgramaA/a50767: Olá do Programa A!\n",
            "Mensagem recebida no tópico ProgramaA/a50767: Olá do Programa A!\n",
            "Mensagem recebida no tópico ProgramaA/a50767: Olá do Programa A!\n"
          ]
        }
      ],
      "source": [
        "#PROGRAMA B\n",
        "import time\n",
        "import paho.mqtt.client as mqtt\n",
        "\n",
        "topicA=\"ProgramaA/a50767\"\n",
        "topicB=\"ProgramaB/a50767\"\n",
        "message= \"Olá do Programa B!\"\n",
        "\n",
        "# Função de callback para quando a conexão é estabelecida\n",
        "def on_connect(client, userdata, flags, reason_code, properties):\n",
        "    print(\"Conectado com o código de resultado: \" + str(reason_code))\n",
        "    client.subscribe(topicA)\n",
        "\n",
        "# Função de callback para quando uma mensagem é recebida\n",
        "def on_message(client, userdata, msg):\n",
        "    print(\"Mensagem recebida no tópico \" + msg.topic + \": \" + str(msg.payload.decode(\"utf-8\")))\n",
        "\n",
        "# Criando um cliente MQTT\n",
        "client = mqtt.Client(mqtt.CallbackAPIVersion.VERSION2)\n",
        "\n",
        "# Definindo as funções de callback\n",
        "client.on_connect = on_connect\n",
        "client.on_message = on_message\n",
        "\n",
        "# Conectando ao broker\n",
        "client.connect(\"broker.mqtt-dashboard.com\", 1883, 60)\n",
        "\n",
        "# Iniciando o loop para manter a conexão\n",
        "client.loop_start()\n",
        "\n",
        "while True:\n",
        "    # Enviando uma mensagem para o Programa B\n",
        "    client.publish(topicB, message)\n",
        "    print('Ola b')\n",
        "        # Aguardando um momento para a mensagem ser enviada\n",
        "    time.sleep(2)\n",
        "client.loop_stop()"
      ]
    },
    {
      "cell_type": "code",
      "execution_count": null,
      "metadata": {},
      "outputs": [],
      "source": []
    }
  ],
  "metadata": {
    "colab": {
      "provenance": []
    },
    "kernelspec": {
      "display_name": "Python 3",
      "language": "python",
      "name": "python3"
    },
    "language_info": {
      "codemirror_mode": {
        "name": "ipython",
        "version": 3
      },
      "file_extension": ".py",
      "mimetype": "text/x-python",
      "name": "python",
      "nbconvert_exporter": "python",
      "pygments_lexer": "ipython3",
      "version": "3.11.8"
    }
  },
  "nbformat": 4,
  "nbformat_minor": 0
}
